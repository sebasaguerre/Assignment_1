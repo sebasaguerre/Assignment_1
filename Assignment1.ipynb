{
 "cells": [
  {
   "cell_type": "markdown",
   "metadata": {},
   "source": [
    "# Pure Python Implementation"
   ]
  },
  {
   "cell_type": "code",
   "execution_count": 7,
   "metadata": {},
   "outputs": [],
   "source": [
    "import math as m "
   ]
  },
  {
   "cell_type": "code",
   "execution_count": null,
   "metadata": {},
   "outputs": [],
   "source": [
    "# initial set up\n",
    "input = [1, -1]\n",
    "w1 = [[1.0, 1.0, 1.0], [-1.0, -1.0, -1.0]]\n",
    "b1 = 0\n",
    "w2 = [[1.0, 1.0], [-1.0, -1.0], [-1.0, -1.0]]\n",
    "b2 = 0\n",
    "target_class = [1, 0]"
   ]
  },
  {
   "cell_type": "code",
   "execution_count": null,
   "metadata": {},
   "outputs": [],
   "source": [
    "# support functions \n",
    "\n",
    "def sigmoid(values: list):\n",
    "    return [1/(1 + m.exp(-x)) for x in values] \n",
    "\n",
    "def deriv_sigmoid(x: list):\n",
    "    return sigmoid(x)*(1 - sigmoid(x))\n",
    "\n",
    "def softmax(values: list):\n",
    "    exp_sum = 0\n",
    "    for value in values:\n",
    "        exp_sum += m.exp(value)\n",
    "    \n",
    "    return [(m.exp(x)/exp_sum) for x in values]\n",
    "\n",
    "def deriv_softmax(values: list, ):\n",
    "    pass\n",
    "\n",
    "\n",
    "def weighted_sum(input: list, weights:list):\n",
    "    # initialize empty output list\n",
    "    output = [0] * len(weights[0])\n",
    "\n",
    "    # loop over input values\n",
    "    for idx1, val in enumerate(input):\n",
    "        # loop over number of weights \n",
    "        for idx2 in range(len(weights[0])):\n",
    "            output[idx2] += val * weights[idx1][idx2]\n",
    "            \n",
    "    return output \n",
    "\n",
    "def predict(smax_output):\n",
    "    return target_class[smax_output.index(max(smax_output))]\n",
    "\n",
    "def forwardpass(input, w1, b1, w2, b2, target):\n",
    "    # feedforward pass\n",
    "    k1 = weighted_sum(input, w1, b1) # first linear combination\n",
    "    h1 = sigmoid(k1) # sigmoid activation function\n",
    "    k2 = weighted_sum(h1, w2, b2) # second linear combination\n",
    "    h2 = softmax(k2) # sigmoid activation function\n",
    "    y = predict(h2)\n",
    "\n",
    "    return k1, h1, k2, h2, y \n",
    "\n",
    "def backprop(input, w1, b1, w2, b2, target):\n",
    "    # feedforward pass\n",
    "    k1 = weighted_sum(input, w1, b1) # first linear combination\n",
    "    h1 = sigmoid(k1) # sigmoid activation function\n",
    "    k2 = weighted_sum(h1, w2, b2) # second linear combination\n",
    "    h2 = softmax(k2) # sigmoid activation function\n",
    "\n",
    "    # backwards pass to compute derivatives\n",
    "    t_prob = h2[target_class.index(target)] # target probability \n",
    "    dL_dy = - 1/t_prob \n",
    "    dL_dh2 = dL_dy*(t_prob*(1 - t_prob))\n",
    "    dL_w2 = 0\n",
    "    dL_b2 = 0\n",
    "    dL_h1 = 0\n",
    "    dL_w1 = 0\n",
    "    dL_b1 = 0 \n",
    "    \n",
    "    return dL_w1, dL_b1, dL_w2, dL_b2\n",
    "\n",
    "def gradient_desent(w1, b1, w2, b2, dL_w1, dL_b1, dL_w2, dL_b2, alpha):\n",
    "    \n",
    "    # update weights in first layer \n",
    "    for i in range(len(w1)):\n",
    "        for idx, w in enumerate(w1[i]):\n",
    "            w1[i][idx] = w - alpha*dL_w1[i][idx]\n",
    "\n",
    "    # update weights in second layer \n",
    "    for i in range(len(w2)):\n",
    "         for idx, w in enumerate(w2[i]):\n",
    "            w2[i][idx] = w - alpha*dL_w2[i][idx]\n",
    "\n",
    "    return w1, b1, w2, b2 \n",
    " \n",
    "\n",
    "def loss(prediction, target):\n",
    "    return - m.log(prediction[target_class.index(target)])"
   ]
  }
 ],
 "metadata": {
  "kernelspec": {
   "display_name": "DSML",
   "language": "python",
   "name": "python3"
  },
  "language_info": {
   "codemirror_mode": {
    "name": "ipython",
    "version": 3
   },
   "file_extension": ".py",
   "mimetype": "text/x-python",
   "name": "python",
   "nbconvert_exporter": "python",
   "pygments_lexer": "ipython3",
   "version": "3.12.3"
  }
 },
 "nbformat": 4,
 "nbformat_minor": 2
}
